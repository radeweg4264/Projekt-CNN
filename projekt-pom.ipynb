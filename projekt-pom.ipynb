{
 "cells": [
  {
   "cell_type": "code",
   "execution_count": 1,
   "metadata": {
    "_cell_guid": "b1076dfc-b9ad-4769-8c92-a6c4dae69d19",
    "_uuid": "8f2839f25d086af736a60e9eeb907d3b93b6e0e5"
   },
   "outputs": [],
   "source": [
    "import os\n",
    "import numpy as np\n",
    "import pandas as pd\n",
    "import cv2\n",
    "import matplotlib.pyplot as plt\n",
    "%matplotlib inline\n",
    "\n",
    "from sklearn.model_selection import train_test_split\n",
    "\n",
    "import torch \n",
    "import torch.nn as nn\n",
    "import torch.nn.functional as F\n",
    "import torchvision\n",
    "import torchvision.transforms as transforms\n",
    "from torch.utils.data import TensorDataset, DataLoader, Dataset\n",
    "import torch.optim as optim"
   ]
  },
  {
   "cell_type": "code",
   "execution_count": 2,
   "metadata": {
    "_cell_guid": "79c7e3d0-c299-4dcb-8224-4455121ee9b0",
    "_uuid": "d629ff2d2480ee46fbb7e2d37f6b5fab8052498a"
   },
   "outputs": [],
   "source": [
    "num_epochs = 8\n",
    "num_classes = 2\n",
    "batch_size = 128\n",
    "learning_rate = 0.002\n",
    "device = torch.device('cuda:0' if torch.cuda.is_available() else 'cpu')"
   ]
  },
  {
   "cell_type": "code",
   "execution_count": 3,
   "metadata": {},
   "outputs": [],
   "source": [
    "labels = pd.read_csv('/kaggle//input/histopathologic-cancer-detection/train_labels.csv')\n",
    "sub = pd.read_csv('/kaggle/input/histopathologic-cancer-detection/sample_submission.csv')\n",
    "train_path = '/kaggle/input/histopathologic-cancer-detection/train/'\n",
    "test_path = '/kaggle/input/histopathologic-cancer-detection/test/'"
   ]
  },
  {
   "cell_type": "code",
   "execution_count": 4,
   "metadata": {},
   "outputs": [
    {
     "data": {
      "text/plain": [
       "(198022, 22003)"
      ]
     },
     "execution_count": 4,
     "metadata": {},
     "output_type": "execute_result"
    }
   ],
   "source": [
    "train, val = train_test_split(labels, stratify=labels.label, test_size=0.1)\n",
    "len(train), len(val)"
   ]
  },
  {
   "cell_type": "code",
   "execution_count": 5,
   "metadata": {},
   "outputs": [],
   "source": [
    "class CreateDataset(Dataset):\n",
    "    def __init__(self,df_data,data_dir = './',transform=None):\n",
    "        super().__init__()\n",
    "        self.df=df_data.values\n",
    "        self.data_dir=data_dir\n",
    "        self.transform=transform\n",
    "        \n",
    "    def __len__(self):\n",
    "        return len(self.df)\n",
    "    \n",
    "    def __getitem__(self,index):\n",
    "        img_name,label=self.df[index]\n",
    "        img_path=os.path.join(self.data_dir,img_name+'.tif')\n",
    "        image= cv2.imread(img_path)\n",
    "        if self.transform is not None:\n",
    "            image=self.transform(image)\n",
    "        return image,label    \n",
    "        "
   ]
  },
  {
   "cell_type": "code",
   "execution_count": 6,
   "metadata": {
    "_kg_hide-input": true
   },
   "outputs": [],
   "source": [
    "trans_train = transforms.Compose([transforms.ToPILImage(),\n",
    "                                  transforms.Pad(64, padding_mode='reflect'),\n",
    "                                  transforms.RandomHorizontalFlip(), \n",
    "                                  transforms.RandomVerticalFlip(),\n",
    "                                  transforms.RandomRotation(20), \n",
    "                                  transforms.ToTensor(),\n",
    "                                  transforms.Normalize(mean=[0.5, 0.5, 0.5],std=[0.5, 0.5, 0.5])])\n",
    "\n",
    "trans_valid = transforms.Compose([transforms.ToPILImage(),\n",
    "                                  transforms.Pad(64, padding_mode='reflect'),\n",
    "                                  transforms.ToTensor(),\n",
    "                                  transforms.Normalize(mean=[0.5, 0.5, 0.5],std=[0.5, 0.5, 0.5])])\n",
    "\n",
    "dataset_train = CreateDataset(df_data=train, data_dir=train_path, transform=trans_train)\n",
    "dataset_valid = CreateDataset(df_data=val, data_dir=train_path, transform=trans_valid)\n",
    "\n",
    "loader_train = DataLoader(dataset = dataset_train, batch_size=batch_size, shuffle=True, num_workers=0)\n",
    "loader_valid = DataLoader(dataset = dataset_valid, batch_size=batch_size//2, shuffle=False, num_workers=0)"
   ]
  },
  {
   "cell_type": "code",
   "execution_count": 7,
   "metadata": {},
   "outputs": [
    {
     "data": {
      "text/plain": [
       "344"
      ]
     },
     "execution_count": 7,
     "metadata": {},
     "output_type": "execute_result"
    }
   ],
   "source": [
    "len(loader_valid)"
   ]
  },
  {
   "cell_type": "code",
   "execution_count": 8,
   "metadata": {},
   "outputs": [],
   "source": [
    "class CNN(nn.Module):\n",
    "    def __init__(self):\n",
    "        super(CNN, self).__init__()\n",
    "        self.conv1 = nn.Conv2d(in_channels=3, out_channels=32, kernel_size=3, padding=2)\n",
    "        self.bn1 = nn.BatchNorm2d(32)\n",
    "        self.conv2 = nn.Conv2d(in_channels=32, out_channels=64, kernel_size=3, padding=2)\n",
    "        self.bn2 = nn.BatchNorm2d(64)                                                       # Neurony\n",
    "        self.conv3 = nn.Conv2d(in_channels=64, out_channels=128, kernel_size=3, padding=2)\n",
    "        self.bn3 = nn.BatchNorm2d(128)\n",
    "        self.conv4 = nn.Conv2d(in_channels=128, out_channels=256, kernel_size=3, padding=2)\n",
    "        self.bn4 = nn.BatchNorm2d(256)\n",
    "        self.conv5 = nn.Conv2d(in_channels=256, out_channels=512, kernel_size=3, padding=2)\n",
    "        self.bn5 = nn.BatchNorm2d(512)\n",
    "        self.pool = nn.MaxPool2d(kernel_size=2, stride=2)\n",
    "        self.avg = nn.AvgPool2d(8)\n",
    "        self.fc = nn.Linear(512 * 1 * 1, 2) # Flatten\n",
    "        \n",
    "        \n",
    "    def forward(self, x):\n",
    "        x = self.pool(F.leaky_relu(self.bn1(self.conv1(x)))) \n",
    "        x = self.pool(F.leaky_relu(self.bn2(self.conv2(x))))         # Aktywacja\n",
    "        x = self.pool(F.leaky_relu(self.bn3(self.conv3(x))))\n",
    "        x = self.pool(F.leaky_relu(self.bn4(self.conv4(x))))\n",
    "        x = self.pool(F.leaky_relu(self.bn5(self.conv5(x))))\n",
    "        x = self.avg(x)\n",
    "        x = x.view(-1, 512 * 1 * 1) \n",
    "        x = self.fc(x)\n",
    "        return x"
   ]
  },
  {
   "cell_type": "code",
   "execution_count": 9,
   "metadata": {},
   "outputs": [
    {
     "name": "stdout",
     "output_type": "stream",
     "text": [
      "Da\n",
      "CNN(\n",
      "  (conv1): Conv2d(3, 32, kernel_size=(3, 3), stride=(1, 1), padding=(2, 2))\n",
      "  (bn1): BatchNorm2d(32, eps=1e-05, momentum=0.1, affine=True, track_running_stats=True)\n",
      "  (conv2): Conv2d(32, 64, kernel_size=(3, 3), stride=(1, 1), padding=(2, 2))\n",
      "  (bn2): BatchNorm2d(64, eps=1e-05, momentum=0.1, affine=True, track_running_stats=True)\n",
      "  (conv3): Conv2d(64, 128, kernel_size=(3, 3), stride=(1, 1), padding=(2, 2))\n",
      "  (bn3): BatchNorm2d(128, eps=1e-05, momentum=0.1, affine=True, track_running_stats=True)\n",
      "  (conv4): Conv2d(128, 256, kernel_size=(3, 3), stride=(1, 1), padding=(2, 2))\n",
      "  (bn4): BatchNorm2d(256, eps=1e-05, momentum=0.1, affine=True, track_running_stats=True)\n",
      "  (conv5): Conv2d(256, 512, kernel_size=(3, 3), stride=(1, 1), padding=(2, 2))\n",
      "  (bn5): BatchNorm2d(512, eps=1e-05, momentum=0.1, affine=True, track_running_stats=True)\n",
      "  (pool): MaxPool2d(kernel_size=2, stride=2, padding=0, dilation=1, ceil_mode=False)\n",
      "  (avg): AvgPool2d(kernel_size=8, stride=8, padding=0)\n",
      "  (fc): Linear(in_features=512, out_features=2, bias=True)\n",
      ")\n"
     ]
    }
   ],
   "source": [
    "train_on_gpu=torch.cuda.is_available()\n",
    "\n",
    "if not train_on_gpu:\n",
    "    print('Niet')\n",
    "else:\n",
    "    print('Da')\n",
    "    \n",
    "\n",
    "model = CNN().to(device)\n",
    "print(model)\n",
    "\n",
    "if train_on_gpu: model.cuda()\n",
    "    "
   ]
  },
  {
   "cell_type": "code",
   "execution_count": 10,
   "metadata": {},
   "outputs": [],
   "source": [
    "# Optimizer i CEL\n",
    "criterion = nn.CrossEntropyLoss()\n",
    "optimizer = torch.optim.Adamax(model.parameters(), lr=learning_rate)"
   ]
  },
  {
   "cell_type": "code",
   "execution_count": 11,
   "metadata": {},
   "outputs": [
    {
     "name": "stdout",
     "output_type": "stream",
     "text": [
      "Epoch [1/8], Step [100/1548], Loss: 0.4752\n",
      "Epoch [1/8], Step [200/1548], Loss: 0.4125\n",
      "Epoch [1/8], Step [300/1548], Loss: 0.3555\n",
      "Epoch [1/8], Step [400/1548], Loss: 0.3154\n",
      "Epoch [1/8], Step [500/1548], Loss: 0.3327\n",
      "Epoch [1/8], Step [600/1548], Loss: 0.5144\n",
      "Epoch [1/8], Step [700/1548], Loss: 0.3286\n",
      "Epoch [1/8], Step [800/1548], Loss: 0.3829\n",
      "Epoch [1/8], Step [900/1548], Loss: 0.3244\n",
      "Epoch [1/8], Step [1000/1548], Loss: 0.3016\n",
      "Epoch [1/8], Step [1100/1548], Loss: 0.2735\n",
      "Epoch [1/8], Step [1200/1548], Loss: 0.2288\n",
      "Epoch [1/8], Step [1300/1548], Loss: 0.2283\n",
      "Epoch [1/8], Step [1400/1548], Loss: 0.4031\n",
      "Epoch [1/8], Step [1500/1548], Loss: 0.2696\n",
      "Epoch [2/8], Step [100/1548], Loss: 0.2658\n",
      "Epoch [2/8], Step [200/1548], Loss: 0.2479\n",
      "Epoch [2/8], Step [300/1548], Loss: 0.2730\n",
      "Epoch [2/8], Step [400/1548], Loss: 0.2257\n",
      "Epoch [2/8], Step [500/1548], Loss: 0.1953\n",
      "Epoch [2/8], Step [600/1548], Loss: 0.2645\n",
      "Epoch [2/8], Step [700/1548], Loss: 0.2454\n",
      "Epoch [2/8], Step [800/1548], Loss: 0.1387\n",
      "Epoch [2/8], Step [900/1548], Loss: 0.2890\n",
      "Epoch [2/8], Step [1000/1548], Loss: 0.2337\n",
      "Epoch [2/8], Step [1100/1548], Loss: 0.2270\n",
      "Epoch [2/8], Step [1200/1548], Loss: 0.3200\n",
      "Epoch [2/8], Step [1300/1548], Loss: 0.1936\n",
      "Epoch [2/8], Step [1400/1548], Loss: 0.2212\n",
      "Epoch [2/8], Step [1500/1548], Loss: 0.2108\n",
      "Epoch [3/8], Step [100/1548], Loss: 0.1735\n",
      "Epoch [3/8], Step [200/1548], Loss: 0.2630\n",
      "Epoch [3/8], Step [300/1548], Loss: 0.3157\n",
      "Epoch [3/8], Step [400/1548], Loss: 0.1975\n",
      "Epoch [3/8], Step [500/1548], Loss: 0.2496\n",
      "Epoch [3/8], Step [600/1548], Loss: 0.2068\n",
      "Epoch [3/8], Step [700/1548], Loss: 0.1594\n",
      "Epoch [3/8], Step [800/1548], Loss: 0.1892\n",
      "Epoch [3/8], Step [900/1548], Loss: 0.1330\n",
      "Epoch [3/8], Step [1000/1548], Loss: 0.1665\n",
      "Epoch [3/8], Step [1100/1548], Loss: 0.2485\n",
      "Epoch [3/8], Step [1200/1548], Loss: 0.1445\n",
      "Epoch [3/8], Step [1300/1548], Loss: 0.2320\n",
      "Epoch [3/8], Step [1400/1548], Loss: 0.1564\n",
      "Epoch [3/8], Step [1500/1548], Loss: 0.1160\n",
      "Epoch [4/8], Step [100/1548], Loss: 0.1527\n",
      "Epoch [4/8], Step [200/1548], Loss: 0.1204\n",
      "Epoch [4/8], Step [300/1548], Loss: 0.1325\n",
      "Epoch [4/8], Step [400/1548], Loss: 0.2308\n",
      "Epoch [4/8], Step [500/1548], Loss: 0.2188\n",
      "Epoch [4/8], Step [600/1548], Loss: 0.2377\n",
      "Epoch [4/8], Step [700/1548], Loss: 0.2663\n",
      "Epoch [4/8], Step [800/1548], Loss: 0.1697\n",
      "Epoch [4/8], Step [900/1548], Loss: 0.1601\n",
      "Epoch [4/8], Step [1000/1548], Loss: 0.1501\n",
      "Epoch [4/8], Step [1100/1548], Loss: 0.1632\n",
      "Epoch [4/8], Step [1200/1548], Loss: 0.1620\n",
      "Epoch [4/8], Step [1300/1548], Loss: 0.1396\n",
      "Epoch [4/8], Step [1400/1548], Loss: 0.1801\n",
      "Epoch [4/8], Step [1500/1548], Loss: 0.1955\n",
      "Epoch [5/8], Step [100/1548], Loss: 0.2199\n",
      "Epoch [5/8], Step [200/1548], Loss: 0.1569\n",
      "Epoch [5/8], Step [300/1548], Loss: 0.1066\n",
      "Epoch [5/8], Step [400/1548], Loss: 0.1371\n",
      "Epoch [5/8], Step [500/1548], Loss: 0.1500\n",
      "Epoch [5/8], Step [600/1548], Loss: 0.1955\n",
      "Epoch [5/8], Step [700/1548], Loss: 0.1761\n",
      "Epoch [5/8], Step [800/1548], Loss: 0.1809\n",
      "Epoch [5/8], Step [900/1548], Loss: 0.2367\n",
      "Epoch [5/8], Step [1000/1548], Loss: 0.1065\n",
      "Epoch [5/8], Step [1100/1548], Loss: 0.1690\n",
      "Epoch [5/8], Step [1200/1548], Loss: 0.1292\n",
      "Epoch [5/8], Step [1300/1548], Loss: 0.1254\n",
      "Epoch [5/8], Step [1400/1548], Loss: 0.1345\n",
      "Epoch [5/8], Step [1500/1548], Loss: 0.1374\n",
      "Epoch [6/8], Step [100/1548], Loss: 0.1466\n",
      "Epoch [6/8], Step [200/1548], Loss: 0.1645\n",
      "Epoch [6/8], Step [300/1548], Loss: 0.1254\n",
      "Epoch [6/8], Step [400/1548], Loss: 0.1126\n",
      "Epoch [6/8], Step [500/1548], Loss: 0.1375\n",
      "Epoch [6/8], Step [600/1548], Loss: 0.1100\n",
      "Epoch [6/8], Step [700/1548], Loss: 0.1502\n",
      "Epoch [6/8], Step [800/1548], Loss: 0.1630\n",
      "Epoch [6/8], Step [900/1548], Loss: 0.1157\n",
      "Epoch [6/8], Step [1000/1548], Loss: 0.1983\n",
      "Epoch [6/8], Step [1100/1548], Loss: 0.1677\n",
      "Epoch [6/8], Step [1200/1548], Loss: 0.0858\n",
      "Epoch [6/8], Step [1300/1548], Loss: 0.1770\n",
      "Epoch [6/8], Step [1400/1548], Loss: 0.1471\n",
      "Epoch [6/8], Step [1500/1548], Loss: 0.1453\n",
      "Epoch [7/8], Step [100/1548], Loss: 0.1538\n",
      "Epoch [7/8], Step [200/1548], Loss: 0.1087\n",
      "Epoch [7/8], Step [300/1548], Loss: 0.1146\n",
      "Epoch [7/8], Step [400/1548], Loss: 0.1377\n",
      "Epoch [7/8], Step [500/1548], Loss: 0.1871\n",
      "Epoch [7/8], Step [600/1548], Loss: 0.2519\n",
      "Epoch [7/8], Step [700/1548], Loss: 0.1433\n",
      "Epoch [7/8], Step [800/1548], Loss: 0.1736\n",
      "Epoch [7/8], Step [900/1548], Loss: 0.1663\n",
      "Epoch [7/8], Step [1000/1548], Loss: 0.1430\n",
      "Epoch [7/8], Step [1100/1548], Loss: 0.2506\n",
      "Epoch [7/8], Step [1200/1548], Loss: 0.2006\n",
      "Epoch [7/8], Step [1300/1548], Loss: 0.1788\n",
      "Epoch [7/8], Step [1400/1548], Loss: 0.1216\n",
      "Epoch [7/8], Step [1500/1548], Loss: 0.1309\n",
      "Epoch [8/8], Step [100/1548], Loss: 0.0769\n",
      "Epoch [8/8], Step [200/1548], Loss: 0.0884\n",
      "Epoch [8/8], Step [300/1548], Loss: 0.1338\n",
      "Epoch [8/8], Step [400/1548], Loss: 0.2014\n",
      "Epoch [8/8], Step [500/1548], Loss: 0.0815\n",
      "Epoch [8/8], Step [600/1548], Loss: 0.1354\n",
      "Epoch [8/8], Step [700/1548], Loss: 0.2252\n",
      "Epoch [8/8], Step [800/1548], Loss: 0.1348\n",
      "Epoch [8/8], Step [900/1548], Loss: 0.1154\n",
      "Epoch [8/8], Step [1000/1548], Loss: 0.1633\n",
      "Epoch [8/8], Step [1100/1548], Loss: 0.1360\n",
      "Epoch [8/8], Step [1200/1548], Loss: 0.1395\n",
      "Epoch [8/8], Step [1300/1548], Loss: 0.1210\n",
      "Epoch [8/8], Step [1400/1548], Loss: 0.1288\n",
      "Epoch [8/8], Step [1500/1548], Loss: 0.1818\n"
     ]
    }
   ],
   "source": [
    "def train(net):\n",
    "    total_step = len(loader_train)\n",
    "    for epoch in range(num_epochs):\n",
    "        for i, (images, labels) in enumerate(loader_train):\n",
    "            images = images.to(device)\n",
    "            labels = labels.to(device)\n",
    "\n",
    "            # Forward pass\n",
    "            outputs = model(images)\n",
    "            loss = criterion(outputs, labels)\n",
    "\n",
    "            # Backward and optimize\n",
    "            optimizer.zero_grad()\n",
    "            loss.backward()\n",
    "            optimizer.step()\n",
    "\n",
    "            if (i+1) % 100 == 0:\n",
    "                print ('Epoch [{}/{}], Step [{}/{}], Loss: {:.4f}' \n",
    "                       .format(epoch+1, num_epochs, i+1, total_step, loss.item()))\n",
    "\n",
    "train(model)"
   ]
  },
  {
   "cell_type": "code",
   "execution_count": 12,
   "metadata": {},
   "outputs": [
    {
     "name": "stdout",
     "output_type": "stream",
     "text": [
      "Test Accuracy of the model on the test images: 94.30532200154525 %\n"
     ]
    }
   ],
   "source": [
    "def test(net):\n",
    "    \n",
    "    model.eval() \n",
    "    with torch.no_grad():\n",
    "        correct = 0\n",
    "        total = 0\n",
    "        for images, labels in loader_valid:\n",
    "            images = images.cuda()\n",
    "            labels = labels.cuda()\n",
    "            outputs = model(images)\n",
    "            _, predicted = torch.max(outputs.data, 1)\n",
    "            total += labels.size(0)\n",
    "            correct += (predicted == labels).sum().item()\n",
    "\n",
    "        print('Test Accuracy of the model on the test images: {} %'.format(100 * correct / total))\n",
    "\n",
    "test(model)"
   ]
  },
  {
   "cell_type": "code",
   "execution_count": 13,
   "metadata": {},
   "outputs": [
    {
     "ename": "NameError",
     "evalue": "name 'sample_sub' is not defined",
     "output_type": "error",
     "traceback": [
      "\u001b[0;31m---------------------------------------------------------------------------\u001b[0m",
      "\u001b[0;31mNameError\u001b[0m                                 Traceback (most recent call last)",
      "\u001b[0;32m<ipython-input-13-e0dac83d439a>\u001b[0m in \u001b[0;36m<module>\u001b[0;34m\u001b[0m\n\u001b[1;32m     13\u001b[0m         \u001b[0mpreds\u001b[0m\u001b[0;34m.\u001b[0m\u001b[0mappend\u001b[0m\u001b[0;34m(\u001b[0m\u001b[0mi\u001b[0m\u001b[0;34m)\u001b[0m\u001b[0;34m\u001b[0m\u001b[0m\n\u001b[1;32m     14\u001b[0m \u001b[0;34m\u001b[0m\u001b[0m\n\u001b[0;32m---> 15\u001b[0;31m \u001b[0msample_sub\u001b[0m\u001b[0;34m[\u001b[0m\u001b[0;34m'label'\u001b[0m\u001b[0;34m]\u001b[0m \u001b[0;34m=\u001b[0m \u001b[0mpreds\u001b[0m\u001b[0;34m\u001b[0m\u001b[0m\n\u001b[0m",
      "\u001b[0;31mNameError\u001b[0m: name 'sample_sub' is not defined"
     ]
    }
   ],
   "source": [
    "#Submission\n",
    "model.eval()\n",
    "\n",
    "preds= []\n",
    "\n",
    "for batch_i,(data,target) in enumerate(loader_valid):\n",
    "    data,target=data.cuda(),target.cuda()\n",
    "    output = model(data)\n",
    "    \n",
    "    \n",
    "    pr=output.detach().cpu().numpy()\n",
    "    for i in pr:\n",
    "        preds.append(i)\n",
    "        \n",
    "sample_sub['label'] = preds\n"
   ]
  },
  {
   "cell_type": "code",
   "execution_count": 14,
   "metadata": {},
   "outputs": [
    {
     "ename": "NameError",
     "evalue": "name 'sample_sub' is not defined",
     "output_type": "error",
     "traceback": [
      "\u001b[0;31m---------------------------------------------------------------------------\u001b[0m",
      "\u001b[0;31mNameError\u001b[0m                                 Traceback (most recent call last)",
      "\u001b[0;32m<ipython-input-14-6ec97df27c86>\u001b[0m in \u001b[0;36m<module>\u001b[0;34m\u001b[0m\n\u001b[0;32m----> 1\u001b[0;31m \u001b[0;32mfor\u001b[0m \u001b[0mi\u001b[0m \u001b[0;32min\u001b[0m \u001b[0mrange\u001b[0m\u001b[0;34m(\u001b[0m\u001b[0mlen\u001b[0m\u001b[0;34m(\u001b[0m\u001b[0msample_sub\u001b[0m\u001b[0;34m)\u001b[0m\u001b[0;34m)\u001b[0m\u001b[0;34m:\u001b[0m\u001b[0;34m\u001b[0m\u001b[0m\n\u001b[0m\u001b[1;32m      2\u001b[0m     \u001b[0msample_sub\u001b[0m\u001b[0;34m.\u001b[0m\u001b[0mlabel\u001b[0m\u001b[0;34m[\u001b[0m\u001b[0mi\u001b[0m\u001b[0;34m]\u001b[0m \u001b[0;34m=\u001b[0m \u001b[0mnp\u001b[0m\u001b[0;34m.\u001b[0m\u001b[0mfloat\u001b[0m\u001b[0;34m(\u001b[0m\u001b[0msample_sub\u001b[0m\u001b[0;34m.\u001b[0m\u001b[0mlabel\u001b[0m\u001b[0;34m[\u001b[0m\u001b[0mi\u001b[0m\u001b[0;34m]\u001b[0m\u001b[0;34m)\u001b[0m\u001b[0;34m\u001b[0m\u001b[0m\n\u001b[1;32m      3\u001b[0m \u001b[0;34m\u001b[0m\u001b[0m\n",
      "\u001b[0;31mNameError\u001b[0m: name 'sample_sub' is not defined"
     ]
    }
   ],
   "source": [
    "for i in range(len(sample_sub)):\n",
    "    sample_sub.label[i] = np.float(sample_sub.label[i])\n",
    "    "
   ]
  },
  {
   "cell_type": "code",
   "execution_count": 15,
   "metadata": {},
   "outputs": [
    {
     "ename": "NameError",
     "evalue": "name 'sample_sub' is not defined",
     "output_type": "error",
     "traceback": [
      "\u001b[0;31m---------------------------------------------------------------------------\u001b[0m",
      "\u001b[0;31mNameError\u001b[0m                                 Traceback (most recent call last)",
      "\u001b[0;32m<ipython-input-15-5c1ecd461f91>\u001b[0m in \u001b[0;36m<module>\u001b[0;34m\u001b[0m\n\u001b[0;32m----> 1\u001b[0;31m \u001b[0msample_sub\u001b[0m\u001b[0;34m.\u001b[0m\u001b[0mto_csv\u001b[0m\u001b[0;34m(\u001b[0m\u001b[0;34m'submission.csv'\u001b[0m\u001b[0;34m,\u001b[0m \u001b[0mindex\u001b[0m\u001b[0;34m=\u001b[0m\u001b[0;32mFalse\u001b[0m\u001b[0;34m)\u001b[0m\u001b[0;34m\u001b[0m\u001b[0m\n\u001b[0m\u001b[1;32m      2\u001b[0m \u001b[0msample_sub\u001b[0m\u001b[0;34m.\u001b[0m\u001b[0mhead\u001b[0m\u001b[0;34m(\u001b[0m\u001b[0;34m)\u001b[0m\u001b[0;34m\u001b[0m\u001b[0m\n",
      "\u001b[0;31mNameError\u001b[0m: name 'sample_sub' is not defined"
     ]
    }
   ],
   "source": [
    "sample_sub.to_csv('submission.csv', index=False)\n",
    "sample_sub.head()"
   ]
  }
 ],
 "metadata": {
  "kernelspec": {
   "display_name": "Python 3",
   "language": "python",
   "name": "python3"
  },
  "language_info": {
   "codemirror_mode": {
    "name": "ipython",
    "version": 3
   },
   "file_extension": ".py",
   "mimetype": "text/x-python",
   "name": "python",
   "nbconvert_exporter": "python",
   "pygments_lexer": "ipython3",
   "version": "3.6.6"
  }
 },
 "nbformat": 4,
 "nbformat_minor": 4
}
